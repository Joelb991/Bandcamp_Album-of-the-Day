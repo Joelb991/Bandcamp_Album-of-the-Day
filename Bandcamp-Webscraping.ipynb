{
 "cells": [
  {
   "cell_type": "markdown",
   "metadata": {},
   "source": [
    "# Bandcamp Featured Album Web Scraping"
   ]
  },
  {
   "cell_type": "markdown",
   "metadata": {},
   "source": [
    "This webscraping project aims to create a dataset that captures Bandcamps daily/weekly featured albums"
   ]
  },
  {
   "cell_type": "markdown",
   "metadata": {},
   "source": [
    "Bandcamp | Album of the Day: https://daily.bandcamp.com/album-of-the-day"
   ]
  },
  {
   "cell_type": "code",
   "execution_count": 1,
   "metadata": {},
   "outputs": [],
   "source": [
    "import re\n",
    "import requests\n",
    "import numpy  as np\n",
    "import pandas as pd"
   ]
  },
  {
   "cell_type": "markdown",
   "metadata": {},
   "source": [
    "## Extract all html pages containing 30 albums per page"
   ]
  },
  {
   "cell_type": "code",
   "execution_count": 2,
   "metadata": {},
   "outputs": [
    {
     "name": "stdout",
     "output_type": "stream",
     "text": [
      "Number of Pages:  45\n"
     ]
    }
   ],
   "source": [
    "page_num_list = [1]\n",
    "current_page_num = 1\n",
    "previous_page_num = 2\n",
    "html_list = []\n",
    "res = True\n",
    "\n",
    "while res == True:\n",
    "        url = 'https://daily.bandcamp.com/album-of-the-day?page=' + str(current_page_num)\n",
    "        html = requests.get(url).text\n",
    "        html_list.append(html)\n",
    "        \n",
    "        previous_page_num = int(re.search(r'(?<=page=)(\\d{1,2})', html).group()) #1st output: 2\n",
    "        page_num_list.append(previous_page_num)\n",
    "        \n",
    "        current_page_num += 1\n",
    "        \n",
    "        # Check if previous page number is greater than current page number; if True continue webscraping.\n",
    "        res = all(i < j for i, j in zip(page_num_list, page_num_list[1:]))\n",
    "        \n",
    "print(\"Number of Pages: \",len(html_list))"
   ]
  },
  {
   "cell_type": "markdown",
   "metadata": {},
   "source": [
    "## Extract url paths to all specific daily albums"
   ]
  },
  {
   "cell_type": "code",
   "execution_count": 3,
   "metadata": {},
   "outputs": [
    {
     "name": "stdout",
     "output_type": "stream",
     "text": [
      "['https://daily.bandcamp.com/album-of-the-day/michael-hurley-the-time-of-the-foxgloves-review'\n",
      " 'https://daily.bandcamp.com/album-of-the-day/ehiorobo-joltjacket-review'\n",
      " 'https://daily.bandcamp.com/album-of-the-day/sky-h1-azure-review'\n",
      " 'https://daily.bandcamp.com/album-of-the-day/home-front-think-of-the-lie-review'\n",
      " 'https://daily.bandcamp.com/album-of-the-day/bola-sete-samba-in-seattle-live-at-the-penthouse-review']\n"
     ]
    }
   ],
   "source": [
    "album_path = []\n",
    "album_url = []\n",
    "\n",
    "for html in html_list:\n",
    "    # Get first 30 album url paths from each page\n",
    "    url_paths = re.findall(r'(/album-of-the-day/[a-z].+?)(?=\")',html)\n",
    "\n",
    "    # Remove duplicates   \n",
    "    [album_path.append(x) for x in url_paths if x not in album_path]\n",
    "    album_url = ['https://daily.bandcamp.com' + x for x in album_path]\n",
    "\n",
    "# Convert to a Numpy Array\n",
    "album_url_array = np.array(album_url)\n",
    "\n",
    "print(album_url_array[0:5])"
   ]
  },
  {
   "cell_type": "markdown",
   "metadata": {},
   "source": [
    "## Extract HTML of each album specific page"
   ]
  },
  {
   "cell_type": "code",
   "execution_count": 4,
   "metadata": {},
   "outputs": [
    {
     "name": "stdout",
     "output_type": "stream",
     "text": [
      "Number of html pages:  1322\n",
      "---------------------------\n"
     ]
    },
    {
     "data": {
      "text/plain": [
       "'    \\n\\n<!DOCTYPE html>\\n<html>\\n\\n<head>\\n    <title>\\n    Michael Hurley, “The Time Of The Foxgloves” | Bandcamp Daily\\n</title>\\n\\n    \\n    \\n\\n\\n\\n    <meta name=\"description\" content=\"\\nHomespun and celebratory, the folk icon&amp;#39;s newest album is a summer porch party translated to sound.\\n\">\\n\\n    \\n        \\n\\n\\n\\n\\n    <meta property=\"og:title\" content=\"Michael Hurley, “The Time Of The Foxgloves”\">\\n\\n\\n    <meta property=\"og:description\" content=\"Homespun and celebratory, the folk icon&#39;s newest album is a summer porch party translated to sound.\">\\n\\n\\n    <meta property=\"og:url\" content=\"https://daily.ban'"
      ]
     },
     "execution_count": 4,
     "metadata": {},
     "output_type": "execute_result"
    }
   ],
   "source": [
    "lst = []\n",
    "album_html_array = np.array(lst)\n",
    "\n",
    "for i in album_url_array:\n",
    "    html = requests.get(i).text\n",
    "    album_html_array = np.append(album_html_array,html)\n",
    "    \n",
    "print(\"Number of html pages: \",len(album_html_array))\n",
    "print(\"-\"*27)\n",
    "album_html_array[0][0:600]"
   ]
  },
  {
   "cell_type": "markdown",
   "metadata": {},
   "source": [
    "## Extracting data points \n",
    "* Article Title (Artist and Album)\n",
    "* Date Article Published\n",
    "* Record Label of Artist\n",
    "* Record Label Location\n",
    "* Author of Article\n",
    "* Album Tags (Genre)"
   ]
  },
  {
   "cell_type": "code",
   "execution_count": 5,
   "metadata": {},
   "outputs": [],
   "source": [
    "title_list = []\n",
    "title_array = np.array(title_list)\n",
    "\n",
    "for i, val in enumerate(album_html_array):\n",
    "    try:\n",
    "        title_array = np.append(title_array,re.search(r'(<title>\\s.*?)\\s+(<\\/title>)',album_html_array[i]).group())\n",
    "    except:\n",
    "        title_array = np.append(title_array,\"NA\")"
   ]
  },
  {
   "cell_type": "code",
   "execution_count": 6,
   "metadata": {},
   "outputs": [],
   "source": [
    "date_list = []\n",
    "date_array = np.array(date_list)\n",
    "\n",
    "for i, val in enumerate(album_html_array):\n",
    "    try:\n",
    "        date_array = np.append(date_array,re.search(r'(middot;\\s).*\\s(\\s.*</article)',album_html_array[i]).group())\n",
    "    except:\n",
    "        date_array = np.append(date_array,\"NA\")"
   ]
  },
  {
   "cell_type": "code",
   "execution_count": 7,
   "metadata": {},
   "outputs": [],
   "source": [
    "recordlabel_list = []\n",
    "recordlabel_array = np.array(recordlabel_list)\n",
    "\n",
    "for i, val in enumerate(album_html_array):\n",
    "    try:\n",
    "        recordlabel_array = np.append(recordlabel_array,re.search(r'(class=\"artist-name\".*)(?=</a)',album_html_array[i]).group())\n",
    "    except:\n",
    "        recordlabel_array = np.append(recordlabel_array,\"NA\")"
   ]
  },
  {
   "cell_type": "code",
   "execution_count": 8,
   "metadata": {},
   "outputs": [],
   "source": [
    "recordlabellocation_list = []\n",
    "recordlabellocation_array = np.array(recordlabellocation_list)\n",
    "\n",
    "for i, val in enumerate(album_html_array):\n",
    "    try:\n",
    "        recordlabellocation_array = np.append(recordlabellocation_array,re.search(r'(?<=location\">)(\\w.*)(?=</div)',album_html_array[i]).group())\n",
    "    except:\n",
    "        recordlabellocation_array = np.append(recordlabellocation_array,\"NA\")"
   ]
  },
  {
   "cell_type": "code",
   "execution_count": 9,
   "metadata": {},
   "outputs": [],
   "source": [
    "author_list = []\n",
    "author_array = np.array(author_list)\n",
    "\n",
    "for i, val in enumerate(album_html_array):\n",
    "    try:\n",
    "        author_array = np.append(author_array,re.search(r'(contributors.*)(\\w.+)(?=<)',album_html_array[i]).group())\n",
    "    except:\n",
    "        author_array = np.append(author_array,\"NA\")"
   ]
  },
  {
   "cell_type": "code",
   "execution_count": 10,
   "metadata": {},
   "outputs": [],
   "source": [
    "tags_list = []\n",
    "tags_array = np.array(tags_list)\n",
    "\n",
    "for i, val in enumerate(album_html_array):\n",
    "    try:\n",
    "        tags_array = np.append(tags_array,re.search(r'article:tag.+(?=\">)',album_html_array[i]).group())\n",
    "    except:\n",
    "        tags_array = np.append(tags_array,\"NA\")"
   ]
  },
  {
   "cell_type": "code",
   "execution_count": 12,
   "metadata": {},
   "outputs": [
    {
     "data": {
      "text/html": [
       "<div>\n",
       "<style scoped>\n",
       "    .dataframe tbody tr th:only-of-type {\n",
       "        vertical-align: middle;\n",
       "    }\n",
       "\n",
       "    .dataframe tbody tr th {\n",
       "        vertical-align: top;\n",
       "    }\n",
       "\n",
       "    .dataframe thead th {\n",
       "        text-align: right;\n",
       "    }\n",
       "</style>\n",
       "<table border=\"1\" class=\"dataframe\">\n",
       "  <thead>\n",
       "    <tr style=\"text-align: right;\">\n",
       "      <th></th>\n",
       "      <th>Date</th>\n",
       "      <th>Title</th>\n",
       "      <th>Record_Label</th>\n",
       "      <th>Record_Label_Loc</th>\n",
       "      <th>Author</th>\n",
       "      <th>Tags</th>\n",
       "    </tr>\n",
       "  </thead>\n",
       "  <tbody>\n",
       "    <tr>\n",
       "      <th>0</th>\n",
       "      <td>middot;\\n        December 17, 2021\\n    &lt;/article</td>\n",
       "      <td>&lt;title&gt;\\n    Michael Hurley, “The Time Of The ...</td>\n",
       "      <td>class=\"artist-name\"&gt;&lt;a href=\"https://michaelhu...</td>\n",
       "      <td>Astoria, Oregon</td>\n",
       "      <td>contributors/marc-masters\"&gt;Marc Masters</td>\n",
       "      <td>article:tag\" content=\"Folk</td>\n",
       "    </tr>\n",
       "    <tr>\n",
       "      <th>1</th>\n",
       "      <td>middot;\\n        December 16, 2021\\n    &lt;/article</td>\n",
       "      <td>&lt;title&gt;\\n    Ehiorobo, “Joltjacket” | Bandcamp...</td>\n",
       "      <td>class=\"artist-name\"&gt;&lt;a href=\"https://ehiorobo....</td>\n",
       "      <td>New Jersey</td>\n",
       "      <td>contributors/ann-derrick-gaillot\"&gt;Ann-Derrick ...</td>\n",
       "      <td>article:tag\" content=\"Alternative</td>\n",
       "    </tr>\n",
       "  </tbody>\n",
       "</table>\n",
       "</div>"
      ],
      "text/plain": [
       "                                                Date  \\\n",
       "0  middot;\\n        December 17, 2021\\n    </article   \n",
       "1  middot;\\n        December 16, 2021\\n    </article   \n",
       "\n",
       "                                               Title  \\\n",
       "0  <title>\\n    Michael Hurley, “The Time Of The ...   \n",
       "1  <title>\\n    Ehiorobo, “Joltjacket” | Bandcamp...   \n",
       "\n",
       "                                        Record_Label Record_Label_Loc  \\\n",
       "0  class=\"artist-name\"><a href=\"https://michaelhu...  Astoria, Oregon   \n",
       "1  class=\"artist-name\"><a href=\"https://ehiorobo....       New Jersey   \n",
       "\n",
       "                                              Author  \\\n",
       "0            contributors/marc-masters\">Marc Masters   \n",
       "1  contributors/ann-derrick-gaillot\">Ann-Derrick ...   \n",
       "\n",
       "                                Tags  \n",
       "0         article:tag\" content=\"Folk  \n",
       "1  article:tag\" content=\"Alternative  "
      ]
     },
     "execution_count": 12,
     "metadata": {},
     "output_type": "execute_result"
    }
   ],
   "source": [
    "data = np.array(list(zip(date_array,title_array,recordlabel_array,\n",
    "                         recordlabellocation_array,author_array,tags_array)))\n",
    "\n",
    "df = pd.DataFrame(data, columns = [\"Date\",\"Title\",\"Record_Label\",\"Record_Label_Loc\",\"Author\",\"Tags\"])\n",
    "df.head(2)"
   ]
  },
  {
   "cell_type": "code",
   "execution_count": 13,
   "metadata": {},
   "outputs": [],
   "source": [
    "# Clean Date Series\n",
    "df[\"Date\"] = df['Date'].replace(r'middot;\\n', '', regex = True).str.strip()\n",
    "df[\"Date\"] = df['Date'].replace(r'(\\n .*)', '', regex = True)"
   ]
  },
  {
   "cell_type": "code",
   "execution_count": 14,
   "metadata": {},
   "outputs": [],
   "source": [
    "# Clean Title Series\n",
    "df['Title'] = df['Title'].replace(r'(<title>)\\n', '', regex = True).str.strip()\n",
    "df[\"Title\"] = df['Title'].replace(r'( \\| Bandcamp Daily\\n</title>)', '', regex = True)\n",
    "df['Title'] = df['Title'].replace(r'(amp;)', '', regex = True)\n",
    "df['Title'] = df['Title'].replace(r'(Album of the Day: )', '', regex = True)\n",
    "df['Title'] = df['Title'].replace(r'(Album of the Day, )', '', regex = True)\n",
    "df['Title'] = df['Title'].replace(r'(Album of the Week: )', '', regex = True)"
   ]
  },
  {
   "cell_type": "code",
   "execution_count": 15,
   "metadata": {},
   "outputs": [],
   "source": [
    "# Clean Record Label Series\n",
    "df['Record_Label'] = df['Record_Label'].str.extract(r'(true.*)')\n",
    "df['Record_Label'] = df['Record_Label'].replace(r'(true\">)', '', regex = True)"
   ]
  },
  {
   "cell_type": "code",
   "execution_count": 16,
   "metadata": {},
   "outputs": [],
   "source": [
    "# Clean Author Series\n",
    "df['Author'] = df['Author'].str.extract(r'(>.*)')\n",
    "df['Author'] = df['Author'].replace(r'(>)', '', regex = True)"
   ]
  },
  {
   "cell_type": "code",
   "execution_count": 17,
   "metadata": {},
   "outputs": [],
   "source": [
    "# Clean Tags Series\n",
    "df['Tags'] = df['Tags'].str.extract(r'(=.*)')\n",
    "df['Tags'] = df['Tags'].replace(r\"(')\", '', regex = True)\n",
    "df['Tags'] = df['Tags'].replace(r'(\")', '', regex = True)\n",
    "df['Tags'] = df['Tags'].replace(r'(=)', '', regex = True)"
   ]
  },
  {
   "cell_type": "code",
   "execution_count": 18,
   "metadata": {},
   "outputs": [],
   "source": [
    "# Split Article Title into Artist and Album series\n",
    "df[['Artist', 'Album']] = df['Title'].str.split(',',n=1, expand=True)"
   ]
  },
  {
   "cell_type": "code",
   "execution_count": 19,
   "metadata": {},
   "outputs": [],
   "source": [
    "# Clean Album series values\n",
    "for i, val in enumerate(df['Album'].values):\n",
    "    if val == None:\n",
    "        df.iloc[i,7] = df.iloc[i,6]"
   ]
  },
  {
   "cell_type": "code",
   "execution_count": 20,
   "metadata": {},
   "outputs": [],
   "source": [
    "# If Artist = Album, then Artist should take Record Label Value\n",
    "for i, val in enumerate(df['Artist'].values):\n",
    "    if df.iloc[i,6] == df.iloc[i,7]:\n",
    "        df.iloc[i,6] = df.iloc[i,2]\n",
    "# If Artist = Album then Artist = Record Label"
   ]
  },
  {
   "cell_type": "code",
   "execution_count": 21,
   "metadata": {},
   "outputs": [],
   "source": [
    "# If Record Label = Artist, they are unsigned (Independent Artist)\n",
    "for i, val in enumerate(df['Artist'].values):\n",
    "    if df.iloc[i,6] == df.iloc[i,2]:\n",
    "        df.iloc[i,2] = \"Independent Artist\""
   ]
  },
  {
   "cell_type": "code",
   "execution_count": 22,
   "metadata": {},
   "outputs": [],
   "source": [
    "# Clean Album Series\n",
    "df['Album'] = df['Album'].replace(r'“', '', regex = True)\n",
    "df['Album'] = df['Album'].replace(r'”', '', regex = True)"
   ]
  },
  {
   "cell_type": "code",
   "execution_count": 23,
   "metadata": {},
   "outputs": [
    {
     "data": {
      "text/plain": [
       "Date                False\n",
       "Title               False\n",
       "Record_Label         True\n",
       "Record_Label_Loc    False\n",
       "Author               True\n",
       "Tags                 True\n",
       "Artist               True\n",
       "Album               False\n",
       "dtype: bool"
      ]
     },
     "execution_count": 23,
     "metadata": {},
     "output_type": "execute_result"
    }
   ],
   "source": [
    "# Row is ALL NaN\n",
    "df.drop(index=586, inplace=True)\n",
    "\n",
    "df.isnull().any()"
   ]
  },
  {
   "cell_type": "code",
   "execution_count": 24,
   "metadata": {},
   "outputs": [],
   "source": [
    "# Reorder DateFrame\n",
    "df = df[[\"Date\",\"Album\",\"Artist\",\"Tags\",\"Record_Label\",\"Record_Label_Loc\",\"Author\"]]"
   ]
  },
  {
   "cell_type": "code",
   "execution_count": 25,
   "metadata": {
    "scrolled": true
   },
   "outputs": [],
   "source": [
    "for col in df.columns:\n",
    "    df[col] = df[col].str.strip()"
   ]
  },
  {
   "cell_type": "markdown",
   "metadata": {},
   "source": [
    "# Clean Data Set"
   ]
  },
  {
   "cell_type": "code",
   "execution_count": 26,
   "metadata": {},
   "outputs": [
    {
     "data": {
      "text/html": [
       "<div>\n",
       "<style scoped>\n",
       "    .dataframe tbody tr th:only-of-type {\n",
       "        vertical-align: middle;\n",
       "    }\n",
       "\n",
       "    .dataframe tbody tr th {\n",
       "        vertical-align: top;\n",
       "    }\n",
       "\n",
       "    .dataframe thead th {\n",
       "        text-align: right;\n",
       "    }\n",
       "</style>\n",
       "<table border=\"1\" class=\"dataframe\">\n",
       "  <thead>\n",
       "    <tr style=\"text-align: right;\">\n",
       "      <th></th>\n",
       "      <th>Date</th>\n",
       "      <th>Album</th>\n",
       "      <th>Artist</th>\n",
       "      <th>Tags</th>\n",
       "      <th>Record_Label</th>\n",
       "      <th>Record_Label_Loc</th>\n",
       "      <th>Author</th>\n",
       "    </tr>\n",
       "  </thead>\n",
       "  <tbody>\n",
       "    <tr>\n",
       "      <th>0</th>\n",
       "      <td>December 17, 2021</td>\n",
       "      <td>The Time Of The Foxgloves</td>\n",
       "      <td>Michael Hurley</td>\n",
       "      <td>Folk</td>\n",
       "      <td>Independent Artist</td>\n",
       "      <td>Astoria, Oregon</td>\n",
       "      <td>Marc Masters</td>\n",
       "    </tr>\n",
       "    <tr>\n",
       "      <th>1</th>\n",
       "      <td>December 16, 2021</td>\n",
       "      <td>Joltjacket</td>\n",
       "      <td>Ehiorobo</td>\n",
       "      <td>Alternative</td>\n",
       "      <td>Independent Artist</td>\n",
       "      <td>New Jersey</td>\n",
       "      <td>Ann-Derrick Gaillot</td>\n",
       "    </tr>\n",
       "    <tr>\n",
       "      <th>2</th>\n",
       "      <td>December 15, 2021</td>\n",
       "      <td>Azure</td>\n",
       "      <td>SKY H1</td>\n",
       "      <td>Ambient</td>\n",
       "      <td>Independent Artist</td>\n",
       "      <td>Brussels, Belgium</td>\n",
       "      <td>Joe Muggs</td>\n",
       "    </tr>\n",
       "    <tr>\n",
       "      <th>3</th>\n",
       "      <td>December 14, 2021</td>\n",
       "      <td>Think of the Lie</td>\n",
       "      <td>Home Front</td>\n",
       "      <td>Punk</td>\n",
       "      <td>LA VIDA ES UN MUS DISCOS</td>\n",
       "      <td>London, UK</td>\n",
       "      <td>Jes Skolnik</td>\n",
       "    </tr>\n",
       "    <tr>\n",
       "      <th>4</th>\n",
       "      <td>December 13, 2021</td>\n",
       "      <td>Samba in Seattle: Live at the Penthouse 1966​-...</td>\n",
       "      <td>Bola Sete</td>\n",
       "      <td>World</td>\n",
       "      <td>Tompkins Square</td>\n",
       "      <td>San Francisco, California</td>\n",
       "      <td>Andy Beta</td>\n",
       "    </tr>\n",
       "  </tbody>\n",
       "</table>\n",
       "</div>"
      ],
      "text/plain": [
       "                Date                                              Album  \\\n",
       "0  December 17, 2021                          The Time Of The Foxgloves   \n",
       "1  December 16, 2021                                         Joltjacket   \n",
       "2  December 15, 2021                                              Azure   \n",
       "3  December 14, 2021                                   Think of the Lie   \n",
       "4  December 13, 2021  Samba in Seattle: Live at the Penthouse 1966​-...   \n",
       "\n",
       "           Artist         Tags              Record_Label  \\\n",
       "0  Michael Hurley         Folk        Independent Artist   \n",
       "1        Ehiorobo  Alternative        Independent Artist   \n",
       "2          SKY H1      Ambient        Independent Artist   \n",
       "3      Home Front         Punk  LA VIDA ES UN MUS DISCOS   \n",
       "4       Bola Sete        World           Tompkins Square   \n",
       "\n",
       "            Record_Label_Loc               Author  \n",
       "0            Astoria, Oregon         Marc Masters  \n",
       "1                 New Jersey  Ann-Derrick Gaillot  \n",
       "2          Brussels, Belgium            Joe Muggs  \n",
       "3                 London, UK          Jes Skolnik  \n",
       "4  San Francisco, California            Andy Beta  "
      ]
     },
     "execution_count": 26,
     "metadata": {},
     "output_type": "execute_result"
    }
   ],
   "source": [
    "df.head()"
   ]
  },
  {
   "cell_type": "code",
   "execution_count": 27,
   "metadata": {},
   "outputs": [
    {
     "data": {
      "text/plain": [
       "Tags\n",
       "Alternative     199\n",
       "Electronic      171\n",
       "Jazz             92\n",
       "Hip-Hop/Rap      85\n",
       "Experimental     82\n",
       "Rock             68\n",
       "World            62\n",
       "Metal            58\n",
       "Pop              48\n",
       "R&amp;B/Soul     47\n",
       "Punk             47\n",
       "Ambient          38\n",
       "Folk             20\n",
       "Funk             17\n",
       "Classical         9\n",
       "Latin             7\n",
       "Reggae            7\n",
       "Country           4\n",
       "Soundtrack        3\n",
       "Devotional        2\n",
       "Comedy            1\n",
       "Blues             1\n",
       "Acoustic          1\n",
       "Name: Album, dtype: int64"
      ]
     },
     "execution_count": 27,
     "metadata": {},
     "output_type": "execute_result"
    }
   ],
   "source": [
    "df.groupby(\"Tags\")[\"Album\"].count().sort_values(ascending=False)"
   ]
  }
 ],
 "metadata": {
  "kernelspec": {
   "display_name": "Python 3",
   "language": "python",
   "name": "python3"
  },
  "language_info": {
   "codemirror_mode": {
    "name": "ipython",
    "version": 3
   },
   "file_extension": ".py",
   "mimetype": "text/x-python",
   "name": "python",
   "nbconvert_exporter": "python",
   "pygments_lexer": "ipython3",
   "version": "3.8.5"
  }
 },
 "nbformat": 4,
 "nbformat_minor": 4
}
